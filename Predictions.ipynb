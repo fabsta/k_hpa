{
 "cells": [
  {
   "cell_type": "code",
   "execution_count": 1,
   "metadata": {
    "ExecuteTime": {
     "end_time": "2018-11-12T20:33:46.484303Z",
     "start_time": "2018-11-12T20:33:46.316871Z"
    }
   },
   "outputs": [],
   "source": [
    "## notebook setup\n",
    "%reload_ext autoreload\n",
    "%autoreload 2\n",
    "%matplotlib inline"
   ]
  },
  {
   "cell_type": "code",
   "execution_count": 2,
   "metadata": {
    "ExecuteTime": {
     "end_time": "2018-11-12T20:33:47.206820Z",
     "start_time": "2018-11-12T20:33:47.069817Z"
    }
   },
   "outputs": [],
   "source": [
    "import shutil\n",
    "import glob\n",
    "import numpy as np\n",
    "from fastai import *\n",
    "from fastai.vision import *\n",
    "from challenge_setup import *"
   ]
  },
  {
   "cell_type": "code",
   "execution_count": 3,
   "metadata": {},
   "outputs": [],
   "source": [
    "#import sys\n",
    "#sys.path.append('../tests/')\n",
    "#from challenge_setup import *"
   ]
  },
  {
   "cell_type": "markdown",
   "metadata": {},
   "source": [
    "## Prepare Learner"
   ]
  },
  {
   "cell_type": "code",
   "execution_count": 59,
   "metadata": {},
   "outputs": [],
   "source": [
    "src = (ImageFileList.from_folder(path)            \n",
    "       .label_from_csv('train.csv', sep=' ', folder='train_combined', suffix='.png')  \n",
    "       .random_split_by_pct(0.2))\n",
    "tfms = get_transforms(flip_vert=True, max_lighting=0.1, max_zoom=1.05, max_warp=0.)\n",
    "bs = 64\n",
    "sz = 512"
   ]
  },
  {
   "cell_type": "code",
   "execution_count": 60,
   "metadata": {},
   "outputs": [],
   "source": [
    "# start with smaller size\n",
    "data = (src.datasets()\n",
    "        .transform(tfms, size=sz)\n",
    "        .databunch(bs=bs).normalize(imagenet_stats))"
   ]
  },
  {
   "cell_type": "code",
   "execution_count": 61,
   "metadata": {},
   "outputs": [],
   "source": [
    "# use pretrained model\n",
    "arch = models.resnet34\n",
    "f1_score = partial(fbeta, thresh=0.2, beta=1.)\n",
    "learn = create_cnn(data, arch, metrics=f1_score)"
   ]
  },
  {
   "cell_type": "code",
   "execution_count": 62,
   "metadata": {},
   "outputs": [],
   "source": [
    "t = learn.load('stage-1-512-rn34')"
   ]
  },
  {
   "cell_type": "markdown",
   "metadata": {},
   "source": [
    "## Predictions part"
   ]
  },
  {
   "cell_type": "code",
   "execution_count": 63,
   "metadata": {},
   "outputs": [
    {
     "name": "stderr",
     "output_type": "stream",
     "text": [
      "/home/fabsta/projects/deeplearning/fastai/fastai/vision/data.py:122: UserWarning: `ImageMultiDataset` is deprecated and will soon be removed. Use the data block API.\n",
      "  warnings.warn(\"`ImageMultiDataset` is deprecated and will soon be removed. Use the data block API.\")\n"
     ]
    }
   ],
   "source": [
    "# add test databunch\n",
    "learn.data = (src.add_test_folder('test_combined')\n",
    "        .datasets(ImageMultiDataset)\n",
    "        .transform(tfms, size=sz)\n",
    "        .databunch().normalize(imagenet_stats))"
   ]
  },
  {
   "cell_type": "markdown",
   "metadata": {},
   "source": [
    "## Get ids of test images"
   ]
  },
  {
   "cell_type": "code",
   "execution_count": 64,
   "metadata": {},
   "outputs": [
    {
     "data": {
      "text/plain": [
       "['cdda98c0-bad6-11e8-b2b9-ac1f6b6435d0',\n",
       " '0305dfb6-bad0-11e8-b2b8-ac1f6b6435d0']"
      ]
     },
     "execution_count": 64,
     "metadata": {},
     "output_type": "execute_result"
    }
   ],
   "source": [
    "def get_image_names(data):\n",
    "    return [fn.stem for fn in data.test_dl.x]\n",
    "fnames = get_image_names(learn.data); fnames[:2]\n",
    "#len(fnames)"
   ]
  },
  {
   "cell_type": "markdown",
   "metadata": {},
   "source": [
    "# Run predictions"
   ]
  },
  {
   "cell_type": "markdown",
   "metadata": {},
   "source": [
    "## Figure out threshold"
   ]
  },
  {
   "cell_type": "code",
   "execution_count": 65,
   "metadata": {},
   "outputs": [
    {
     "name": "stderr",
     "output_type": "stream",
     "text": [
      "/home/fabsta/.conda/envs/fastai_dl_course/lib/python3.7/site-packages/torch/nn/functional.py:1129: UserWarning: nn.functional.sigmoid is deprecated. Use torch.sigmoid instead.\n",
      "  warnings.warn(\"nn.functional.sigmoid is deprecated. Use torch.sigmoid instead.\")\n"
     ]
    }
   ],
   "source": [
    "p_v, t_v = learn.get_preds(DatasetType.Valid)"
   ]
  },
  {
   "cell_type": "code",
   "execution_count": 66,
   "metadata": {},
   "outputs": [],
   "source": [
    "p_v = p_v.numpy()\n",
    "t_v = t_v.numpy()"
   ]
  },
  {
   "cell_type": "code",
   "execution_count": 67,
   "metadata": {},
   "outputs": [],
   "source": [
    "def sigmoid(a):\n",
    "    return 1/(1+np.exp(-a))"
   ]
  },
  {
   "cell_type": "code",
   "execution_count": 68,
   "metadata": {},
   "outputs": [],
   "source": [
    "sp_v = sigmoid(p_v) #compute the sigmoid of the network output"
   ]
  },
  {
   "cell_type": "code",
   "execution_count": 69,
   "metadata": {},
   "outputs": [],
   "source": [
    "def f1_np(y_pred, y_true, threshold=0.5):\n",
    "    '''numpy f1 metric'''\n",
    "    y_pred = (y_pred>threshold).astype(int)\n",
    "    TP = (y_pred*y_true).sum(1)\n",
    "    prec = TP/(y_pred.sum(1)+1e-7)\n",
    "    rec = TP/(y_true.sum(1)+1e-7)\n",
    "    res = 2*prec*rec/(prec+rec+1e-7)\n",
    "    return res.mean()\n",
    "\n",
    "\n",
    "def f1_n(y_pred, y_true, thresh, n, default=0.5):\n",
    "    '''partial f1 function for index n'''\n",
    "    threshold = default * np.ones(y_pred.shape[1])\n",
    "    threshold[n]=thresh\n",
    "    return f1_np(y_pred, y_true, threshold)\n",
    "\n",
    "def find_thresh(y_pred, y_true):\n",
    "    '''brute force thresh finder'''\n",
    "    ths = []\n",
    "    for i in range(y_pred.shape[1]):\n",
    "        aux = []\n",
    "        for th in np.linspace(0,1,100):\n",
    "            aux += [f1_n(y_pred, y_true, th, i)]\n",
    "        ths += [np.array(aux).argmax()/100]\n",
    "    return np.array(ths)"
   ]
  },
  {
   "cell_type": "code",
   "execution_count": 70,
   "metadata": {},
   "outputs": [
    {
     "data": {
      "text/plain": [
       "array([0.51, 0.51, 0.  , 0.51, 0.  , 0.  , 0.  , 0.51, 0.51, 0.54, 0.72, 0.7 , 0.73, 0.73, 0.51, 0.  , 0.73, 0.73,\n",
       "       0.73, 0.72, 0.51, 0.51, 0.63, 0.51, 0.73, 0.73, 0.51, 0.5 ])"
      ]
     },
     "execution_count": 70,
     "metadata": {},
     "output_type": "execute_result"
    }
   ],
   "source": [
    "ths = find_thresh(sp_v, t_v); ths"
   ]
  },
  {
   "cell_type": "code",
   "execution_count": 71,
   "metadata": {},
   "outputs": [
    {
     "data": {
      "text/plain": [
       "(0.11168262921627775, 0.2662175967592205)"
      ]
     },
     "execution_count": 71,
     "metadata": {},
     "output_type": "execute_result"
    }
   ],
   "source": [
    "f1_np(sp_v, t_v, 0.5), f1_np(sp_v, t_v, ths)"
   ]
  },
  {
   "cell_type": "markdown",
   "metadata": {},
   "source": [
    "## Now the predictions"
   ]
  },
  {
   "cell_type": "code",
   "execution_count": 72,
   "metadata": {},
   "outputs": [
    {
     "name": "stdout",
     "output_type": "stream",
     "text": [
      "Total time: 11:46\n",
      "\n"
     ]
    }
   ],
   "source": [
    "preds_t = learn.TTA(scale=1.0, ds_type=DatasetType.Test, with_loss=False)[0]"
   ]
  },
  {
   "cell_type": "code",
   "execution_count": 77,
   "metadata": {},
   "outputs": [
    {
     "name": "stdout",
     "output_type": "stream",
     "text": [
      "(11702, 28)\n"
     ]
    }
   ],
   "source": [
    "preds = sigmoid(preds_t.numpy())\n",
    "threshold = ths\n",
    "print(preds.shape)"
   ]
  },
  {
   "cell_type": "code",
   "execution_count": 78,
   "metadata": {},
   "outputs": [],
   "source": [
    "classes = np.array([str(n) for n in range(28)])"
   ]
  },
  {
   "cell_type": "code",
   "execution_count": 79,
   "metadata": {},
   "outputs": [],
   "source": [
    "res = np.array([\" \".join(classes[(np.where(pp>threshold))])for pp in preds])"
   ]
  },
  {
   "cell_type": "code",
   "execution_count": 82,
   "metadata": {},
   "outputs": [],
   "source": [
    "submit_df = pd.DataFrame(data={'Id':fnames, 'Predicted': res})"
   ]
  },
  {
   "cell_type": "code",
   "execution_count": 83,
   "metadata": {},
   "outputs": [],
   "source": [
    "submit_df.sort_values(by='Id', inplace=True)\n",
    "os.makedirs('data/submits', exist_ok=True)"
   ]
  },
  {
   "cell_type": "code",
   "execution_count": 84,
   "metadata": {},
   "outputs": [],
   "source": [
    "submit_df.to_csv('data/submits/your_submission.csv', header=True, index=False)"
   ]
  },
  {
   "cell_type": "code",
   "execution_count": 85,
   "metadata": {},
   "outputs": [
    {
     "data": {
      "text/html": [
       "<a href='data/submits/your_submission.csv' target='_blank'>data/submits/your_submission.csv</a><br>"
      ],
      "text/plain": [
       "/home/fabsta/projects/datascience/competitions/kaggle_human_protein_segmentation/k_hpa/data/submits/your_submission.csv"
      ]
     },
     "execution_count": 85,
     "metadata": {},
     "output_type": "execute_result"
    }
   ],
   "source": [
    "from IPython.display import FileLink\n",
    "FileLink('data/submits/your_submission.csv')"
   ]
  },
  {
   "cell_type": "code",
   "execution_count": null,
   "metadata": {},
   "outputs": [],
   "source": []
  }
 ],
 "metadata": {
  "kernelspec": {
   "display_name": "Python (fastai_dl_course)",
   "language": "python",
   "name": "fastai_dl_course"
  },
  "language_info": {
   "codemirror_mode": {
    "name": "ipython",
    "version": 3
   },
   "file_extension": ".py",
   "mimetype": "text/x-python",
   "name": "python",
   "nbconvert_exporter": "python",
   "pygments_lexer": "ipython3",
   "version": "3.7.0"
  },
  "toc": {
   "base_numbering": 1,
   "nav_menu": {},
   "number_sections": true,
   "sideBar": true,
   "skip_h1_title": false,
   "title_cell": "Table of Contents",
   "title_sidebar": "Contents",
   "toc_cell": false,
   "toc_position": {},
   "toc_section_display": true,
   "toc_window_display": false
  }
 },
 "nbformat": 4,
 "nbformat_minor": 2
}
