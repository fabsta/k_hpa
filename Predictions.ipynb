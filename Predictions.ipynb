{
 "cells": [
  {
   "cell_type": "code",
   "execution_count": 1,
   "metadata": {
    "ExecuteTime": {
     "end_time": "2018-11-12T20:33:46.484303Z",
     "start_time": "2018-11-12T20:33:46.316871Z"
    }
   },
   "outputs": [],
   "source": [
    "## notebook setup\n",
    "%reload_ext autoreload\n",
    "%autoreload 2\n",
    "%matplotlib inline"
   ]
  },
  {
   "cell_type": "code",
   "execution_count": 15,
   "metadata": {
    "ExecuteTime": {
     "end_time": "2018-11-12T20:33:47.206820Z",
     "start_time": "2018-11-12T20:33:47.069817Z"
    }
   },
   "outputs": [],
   "source": [
    "import shutil\n",
    "import glob\n",
    "import numpy as np\n",
    "from fastai import *\n",
    "from fastai.vision import *\n",
    "from challenge_setup import *"
   ]
  },
  {
   "cell_type": "code",
   "execution_count": 19,
   "metadata": {},
   "outputs": [],
   "source": [
    "#import sys\n",
    "#sys.path.append('../tests/')\n",
    "#from challenge_setup import *"
   ]
  },
  {
   "cell_type": "markdown",
   "metadata": {},
   "source": [
    "## Prepare Learner"
   ]
  },
  {
   "cell_type": "code",
   "execution_count": 16,
   "metadata": {},
   "outputs": [],
   "source": [
    "src = (ImageFileList.from_folder(path)            \n",
    "       .label_from_csv('train.csv', sep=' ', folder='train_combined', suffix='.png')  \n",
    "       .random_split_by_pct(0.2))\n",
    "tfms = get_transforms(flip_vert=True, max_lighting=0.1, max_zoom=1.05, max_warp=0.)\n",
    "bs = 64"
   ]
  },
  {
   "cell_type": "code",
   "execution_count": 17,
   "metadata": {},
   "outputs": [],
   "source": [
    "# start with smaller size\n",
    "data = (src.datasets()\n",
    "        .transform(tfms, size=128)\n",
    "        .databunch(bs=bs).normalize(imagenet_stats))"
   ]
  },
  {
   "cell_type": "code",
   "execution_count": 18,
   "metadata": {},
   "outputs": [],
   "source": [
    "# use pretrained model\n",
    "arch = models.resnet34\n",
    "f1_score = partial(fbeta, thresh=0.2, beta=1.)\n",
    "learn = create_cnn(data, arch, metrics=f1_score)"
   ]
  },
  {
   "cell_type": "markdown",
   "metadata": {},
   "source": [
    "## Predictions part"
   ]
  },
  {
   "cell_type": "code",
   "execution_count": 22,
   "metadata": {},
   "outputs": [
    {
     "name": "stderr",
     "output_type": "stream",
     "text": [
      "/home/fabsta/projects/deeplearning/fastai/fastai/vision/data.py:122: UserWarning: `ImageMultiDataset` is deprecated and will soon be removed. Use the data block API.\n",
      "  warnings.warn(\"`ImageMultiDataset` is deprecated and will soon be removed. Use the data block API.\")\n"
     ]
    }
   ],
   "source": [
    "# add test databunch\n",
    "learn.data = (src.add_test_folder('test_combined')\n",
    "        .datasets(ImageMultiDataset)\n",
    "        .transform(tfms, size=256)\n",
    "        .databunch().normalize(imagenet_stats))"
   ]
  },
  {
   "cell_type": "markdown",
   "metadata": {},
   "source": [
    "## Get ids of test images"
   ]
  },
  {
   "cell_type": "code",
   "execution_count": 23,
   "metadata": {},
   "outputs": [
    {
     "data": {
      "text/plain": [
       "['cdda98c0-bad6-11e8-b2b9-ac1f6b6435d0',\n",
       " '0305dfb6-bad0-11e8-b2b8-ac1f6b6435d0']"
      ]
     },
     "execution_count": 23,
     "metadata": {},
     "output_type": "execute_result"
    }
   ],
   "source": [
    "def get_image_names(data):\n",
    "    return [fn.stem for fn in data.test_dl.x]\n",
    "fnames = get_image_names(learn.data); fnames[:2]"
   ]
  },
  {
   "cell_type": "markdown",
   "metadata": {},
   "source": [
    "## Get predicted labels for each image"
   ]
  },
  {
   "cell_type": "code",
   "execution_count": 24,
   "metadata": {},
   "outputs": [],
   "source": [
    "def get_tags(predictions, data):\n",
    "    return [\" \".join(data.test_ds.ds.classes[i] for i,el in enumerate(predictions[j] > 0.2) if el==1)\n",
    "            for j in range(len(predictions))]"
   ]
  },
  {
   "cell_type": "markdown",
   "metadata": {},
   "source": [
    "## Run predictions"
   ]
  },
  {
   "cell_type": "code",
   "execution_count": 25,
   "metadata": {},
   "outputs": [
    {
     "name": "stderr",
     "output_type": "stream",
     "text": [
      "/home/fabsta/.conda/envs/fastai_dl_course/lib/python3.7/site-packages/torch/nn/functional.py:1129: UserWarning: nn.functional.sigmoid is deprecated. Use torch.sigmoid instead.\n",
      "  warnings.warn(\"nn.functional.sigmoid is deprecated. Use torch.sigmoid instead.\")\n"
     ]
    }
   ],
   "source": [
    "preds, _ = learn.get_preds(DatasetType.Test)"
   ]
  },
  {
   "cell_type": "code",
   "execution_count": 27,
   "metadata": {},
   "outputs": [
    {
     "data": {
      "text/plain": [
       "['1 18 0 2 7 21 6 25 11 16 12 3 14 13 4 20 5 17 22 19 8 9 26 24 27 15']"
      ]
     },
     "execution_count": 27,
     "metadata": {},
     "output_type": "execute_result"
    }
   ],
   "source": [
    "tags = get_tags(preds, learn.data); "
   ]
  },
  {
   "cell_type": "code",
   "execution_count": 31,
   "metadata": {},
   "outputs": [
    {
     "name": "stdout",
     "output_type": "stream",
     "text": [
      "We have 11702 predictions\n",
      "Example ['1 18 0 2 7 21 6 25 11 16 12 3 14 13 4 20 5 17 22 19 8 9 26 24 27 15']\n",
      "Example ['1 18 0 2 7 21 6 25 11 16 12 3 14 13 4 20 5 17 22 19 8 9 26 24 27 15', '1 18 2 23 21 6 25 11 16 12 3 14 13 4 20 5 17 22 19 8 9 10 26 24 27 15']\n"
     ]
    }
   ],
   "source": [
    "print(f\"We have {len(tags)} predictions\")\n",
    "print(f\"Example {tags[:1]}\")\n",
    "print(f\"Example {tags[:2]}\")"
   ]
  },
  {
   "cell_type": "markdown",
   "metadata": {},
   "source": [
    "## Use tta"
   ]
  },
  {
   "cell_type": "code",
   "execution_count": 35,
   "metadata": {},
   "outputs": [
    {
     "name": "stdout",
     "output_type": "stream",
     "text": [
      "Total time: 04:15\n",
      "\n"
     ]
    }
   ],
   "source": [
    "#preds_t,y_t = learn.TTA(is_test=True)\n",
    "preds_t,y_t = learn.TTA(scale=1.0, ds_type=DatasetType.Test, with_loss=False)"
   ]
  },
  {
   "cell_type": "code",
   "execution_count": 41,
   "metadata": {},
   "outputs": [
    {
     "name": "stdout",
     "output_type": "stream",
     "text": [
      "<class 'numpy.ndarray'>\n",
      "[[0.789035 0.663046 0.742068 0.579836 ... 0.785043 0.567557 0.802602 0.716225]\n",
      " [0.517464 0.654974 0.48183  0.422788 ... 0.528396 0.390112 0.528229 0.526367]\n",
      " [0.351265 0.19469  0.189377 0.186476 ... 0.145741 0.169631 0.189239 0.250755]\n",
      " [0.690684 0.591899 0.557788 0.74184  ... 0.714469 0.690951 0.801054 0.623152]\n",
      " ...\n",
      " [0.569611 0.607786 0.428354 0.522511 ... 0.625799 0.445595 0.621549 0.529495]\n",
      " [0.612756 0.567041 0.517705 0.623163 ... 0.60671  0.696876 0.448253 0.497769]\n",
      " [0.555561 0.373711 0.292564 0.303093 ... 0.295174 0.64424  0.263279 0.487083]\n",
      " [0.611835 0.629169 0.590494 0.557223 ... 0.517316 0.614062 0.534392 0.513647]]\n"
     ]
    }
   ],
   "source": [
    "print(f\"{type(preds_t)}\")\n",
    "print(f\"{preds_t}\")\n",
    "preds_backup = preds_t"
   ]
  },
  {
   "cell_type": "code",
   "execution_count": 42,
   "metadata": {},
   "outputs": [],
   "source": [
    "def sigmoid_np(x):\n",
    "    return 1.0/(1.0 + np.exp(-x))"
   ]
  },
  {
   "cell_type": "code",
   "execution_count": 46,
   "metadata": {},
   "outputs": [
    {
     "name": "stdout",
     "output_type": "stream",
     "text": [
      "(11702, 28)\n",
      "(28, 11702)\n",
      "[[0.660481 0.659091 0.659972 0.658133 ... 0.660438 0.657989 0.660626 0.659687]]\n",
      "(28, 11702)\n",
      "[[0.659368 0.659056 0.659254 0.658841 ... 0.659359 0.658809 0.659401 0.65919 ]]\n",
      "[0.659718]\n"
     ]
    }
   ],
   "source": [
    "print(preds_t.shape)\n",
    "preds_t = np.stack(preds_t, axis=-1)\n",
    "print(preds_t.shape)\n",
    "print(preds_t[:1])\n",
    "preds_t = sigmoid_np(preds_t)\n",
    "print(preds_t.shape)\n",
    "print(preds_t[:1])\n",
    "pred_t = preds_t.max(axis=-1) #max works better for F1 macro score\n",
    "print(pred_t[:1])"
   ]
  },
  {
   "cell_type": "code",
   "execution_count": 47,
   "metadata": {},
   "outputs": [],
   "source": [
    "th = np.array([0.565,0.39,0.55,0.345,0.33,0.39,0.33,0.45,0.38,0.39,\n",
    "               0.34,0.42,0.31,0.38,0.49,0.50,0.38,0.43,0.46,0.40,\n",
    "               0.39,0.505,0.37,0.47,0.41,0.545,0.32,0.1])"
   ]
  },
  {
   "cell_type": "code",
   "execution_count": 52,
   "metadata": {},
   "outputs": [
    {
     "name": "stdout",
     "output_type": "stream",
     "text": [
      "['0 1 2 3 4 5 6 7 8 9 10 11 12 13 14 15 16 17 18 19 20 21 22 23 24 25 26 27', '0 1 2 3 4 5 6 7 8 9 10 11 12 13 14 15 16 17 18 19 20 21 22 23 24 25 26 27', '0 1 2 3 4 5 6 7 8 9 10 11 12 13 14 15 16 17 18 19 20 21 22 23 24 25 26 27', '0 1 2 3 4 5 6 7 8 9 10 11 12 13 14 15 16 17 18 19 20 21 22 23 24 25 26 27', '0 1 2 3 4 5 6 7 8 9 10 11 12 13 14 15 16 17 18 19 20 21 22 23 24 25 26 27', '0 1 2 3 4 5 6 7 8 9 10 11 12 13 14 15 16 17 18 19 20 21 22 23 24 25 26 27', '0 1 2 3 4 5 6 7 8 9 10 11 12 13 14 15 16 17 18 19 20 21 22 23 24 25 26 27', '0 1 2 3 4 5 6 7 8 9 10 11 12 13 14 15 16 17 18 19 20 21 22 23 24 25 26 27', '0 1 2 3 4 5 6 7 8 9 10 11 12 13 14 15 16 17 18 19 20 21 22 23 24 25 26 27', '0 1 2 3 4 5 6 7 8 9 10 11 12 13 14 15 16 17 18 19 20 21 22 23 24 25 26 27', '0 1 2 3 4 5 6 7 8 9 10 11 12 13 14 15 16 17 18 19 20 21 22 23 24 25 26 27', '0 1 2 3 4 5 6 7 8 9 10 11 12 13 14 15 16 17 18 19 20 21 22 23 24 25 26 27', '0 1 2 3 4 5 6 7 8 9 10 11 12 13 14 15 16 17 18 19 20 21 22 23 24 25 26 27', '0 1 2 3 4 5 6 7 8 9 10 11 12 13 14 15 16 17 18 19 20 21 22 23 24 25 26 27', '0 1 2 3 4 5 6 7 8 9 10 11 12 13 14 15 16 17 18 19 20 21 22 23 24 25 26 27', '0 1 2 3 4 5 6 7 8 9 10 11 12 13 14 15 16 17 18 19 20 21 22 23 24 25 26 27', '0 1 2 3 4 5 6 7 8 9 10 11 12 13 14 15 16 17 18 19 20 21 22 23 24 25 26 27', '0 1 2 3 4 5 6 7 8 9 10 11 12 13 14 15 16 17 18 19 20 21 22 23 24 25 26 27', '0 1 2 3 4 5 6 7 8 9 10 11 12 13 14 15 16 17 18 19 20 21 22 23 24 25 26 27', '0 1 2 3 4 5 6 7 8 9 10 11 12 13 14 15 16 17 18 19 20 21 22 23 24 25 26 27', '0 1 2 3 4 5 6 7 8 9 10 11 12 13 14 15 16 17 18 19 20 21 22 23 24 25 26 27', '0 1 2 3 4 5 6 7 8 9 10 11 12 13 14 15 16 17 18 19 20 21 22 23 24 25 26 27', '0 1 2 3 4 5 6 7 8 9 10 11 12 13 14 15 16 17 18 19 20 21 22 23 24 25 26 27', '0 1 2 3 4 5 6 7 8 9 10 11 12 13 14 15 16 17 18 19 20 21 22 23 24 25 26 27', '0 1 2 3 4 5 6 7 8 9 10 11 12 13 14 15 16 17 18 19 20 21 22 23 24 25 26 27', '0 1 2 3 4 5 6 7 8 9 10 11 12 13 14 15 16 17 18 19 20 21 22 23 24 25 26 27', '0 1 2 3 4 5 6 7 8 9 10 11 12 13 14 15 16 17 18 19 20 21 22 23 24 25 26 27', '0 1 2 3 4 5 6 7 8 9 10 11 12 13 14 15 16 17 18 19 20 21 22 23 24 25 26 27']\n",
      "28\n"
     ]
    }
   ],
   "source": [
    "pred_list = []\n",
    "for line in pred_t:\n",
    "    s = ' '.join(list([str(i) for i in np.nonzero(line>th)[0]]))\n",
    "    pred_list.append(s)\n",
    "print(pred_list)\n",
    "print(len(pred_list))"
   ]
  },
  {
   "cell_type": "code",
   "execution_count": 55,
   "metadata": {},
   "outputs": [],
   "source": [
    "sample_df = pd.read_csv(sample)\n",
    "sample_list = list(sample_df.Id)\n",
    "pred_dic = dict((key, value) for (key, value) \n",
    "#             in zip(learn.data.test_ds.fnames,pred_list))\n",
    "             in zip(fnames,pred_list))\n"
   ]
  },
  {
   "cell_type": "markdown",
   "metadata": {},
   "source": [
    "## Each image in test dataset now has a set of labels"
   ]
  },
  {
   "cell_type": "code",
   "execution_count": 59,
   "metadata": {},
   "outputs": [
    {
     "data": {
      "text/plain": [
       "'0 1 2 3 4 5 6 7 8 9 10 11 12 13 14 15 16 17 18 19 20 21 22 23 24 25 26 27'"
      ]
     },
     "execution_count": 59,
     "metadata": {},
     "output_type": "execute_result"
    }
   ],
   "source": [
    "pred_dic['cdda98c0-bad6-11e8-b2b9-ac1f6b6435d0']"
   ]
  },
  {
   "cell_type": "code",
   "execution_count": 65,
   "metadata": {},
   "outputs": [
    {
     "ename": "TypeError",
     "evalue": "list indices must be integers or slices, not str",
     "output_type": "error",
     "traceback": [
      "\u001b[0;31m---------------------------------------------------------------------------\u001b[0m",
      "\u001b[0;31mTypeError\u001b[0m                                 Traceback (most recent call last)",
      "\u001b[0;32m<ipython-input-65-6d7182730515>\u001b[0m in \u001b[0;36m<module>\u001b[0;34m\u001b[0m\n\u001b[0;32m----> 1\u001b[0;31m \u001b[0mfnames\u001b[0m\u001b[0;34m[\u001b[0m\u001b[0;34m'00008af0-bad0-11e8-b2b8-ac1f6b6435d0'\u001b[0m\u001b[0;34m]\u001b[0m\u001b[0;34m\u001b[0m\u001b[0m\n\u001b[0m",
      "\u001b[0;31mTypeError\u001b[0m: list indices must be integers or slices, not str"
     ]
    }
   ],
   "source": [
    "fnames['00008af0-bad0-11e8-b2b8-ac1f6b6435d0']"
   ]
  },
  {
   "cell_type": "code",
   "execution_count": 63,
   "metadata": {},
   "outputs": [
    {
     "data": {
      "text/plain": [
       "['00008af0-bad0-11e8-b2b8-ac1f6b6435d0',\n",
       " '0000a892-bacf-11e8-b2b8-ac1f6b6435d0']"
      ]
     },
     "execution_count": 63,
     "metadata": {},
     "output_type": "execute_result"
    }
   ],
   "source": [
    "sample_list[:2]"
   ]
  },
  {
   "cell_type": "code",
   "execution_count": 69,
   "metadata": {},
   "outputs": [
    {
     "data": {
      "text/plain": [
       "array([PosixPath('/home/fabsta/projects/datascience/competitions/kaggle_human_protein_segmentation/input/test_combined/cdda98c0-bad6-11e8-b2b9-ac1f6b6435d0.png'),\n",
       "       PosixPath('/home/fabsta/projects/datascience/competitions/kaggle_human_protein_segmentation/input/test_combined/0305dfb6-bad0-11e8-b2b8-ac1f6b6435d0.png'),\n",
       "       PosixPath('/home/fabsta/projects/datascience/competitions/kaggle_human_protein_segmentation/input/test_combined/04eef62c-bad6-11e8-b2b9-ac1f6b6435d0.png'),\n",
       "       PosixPath('/home/fabsta/projects/datascience/competitions/kaggle_human_protein_segmentation/input/test_combined/34203822-bad9-11e8-b2b9-ac1f6b6435d0.png'),\n",
       "       ...,\n",
       "       PosixPath('/home/fabsta/projects/datascience/competitions/kaggle_human_protein_segmentation/input/test_combined/1b3dd548-bad5-11e8-b2b8-ac1f6b6435d0.png'),\n",
       "       PosixPath('/home/fabsta/projects/datascience/competitions/kaggle_human_protein_segmentation/input/test_combined/9a5c8f9a-bac6-11e8-b2b7-ac1f6b6435d0.png'),\n",
       "       PosixPath('/home/fabsta/projects/datascience/competitions/kaggle_human_protein_segmentation/input/test_combined/351a0204-bace-11e8-b2b8-ac1f6b6435d0.png'),\n",
       "       PosixPath('/home/fabsta/projects/datascience/competitions/kaggle_human_protein_segmentation/input/test_combined/d3afc01a-baca-11e8-b2b8-ac1f6b6435d0.png')],\n",
       "      dtype=object)"
      ]
     },
     "execution_count": 69,
     "metadata": {},
     "output_type": "execute_result"
    }
   ],
   "source": [
    "learn.data.test_dl.x"
   ]
  },
  {
   "cell_type": "code",
   "execution_count": 60,
   "metadata": {},
   "outputs": [
    {
     "ename": "KeyError",
     "evalue": "'00008af0-bad0-11e8-b2b8-ac1f6b6435d0'",
     "output_type": "error",
     "traceback": [
      "\u001b[0;31m---------------------------------------------------------------------------\u001b[0m",
      "\u001b[0;31mKeyError\u001b[0m                                  Traceback (most recent call last)",
      "\u001b[0;32m<ipython-input-60-c7d3073aa31b>\u001b[0m in \u001b[0;36m<module>\u001b[0;34m\u001b[0m\n\u001b[0;32m----> 1\u001b[0;31m \u001b[0mpred_list_cor\u001b[0m \u001b[0;34m=\u001b[0m \u001b[0;34m[\u001b[0m\u001b[0mpred_dic\u001b[0m\u001b[0;34m[\u001b[0m\u001b[0mid\u001b[0m\u001b[0;34m]\u001b[0m \u001b[0;32mfor\u001b[0m \u001b[0mid\u001b[0m \u001b[0;32min\u001b[0m \u001b[0msample_list\u001b[0m\u001b[0;34m]\u001b[0m\u001b[0;34m\u001b[0m\u001b[0m\n\u001b[0m\u001b[1;32m      2\u001b[0m \u001b[0;31m#df = pd.DataFrame({'Id':sample_list,'Predicted':pred_list_cor})\u001b[0m\u001b[0;34m\u001b[0m\u001b[0;34m\u001b[0m\u001b[0m\n\u001b[1;32m      3\u001b[0m \u001b[0;31m#df.to_csv(fname, header=True, index=False)\u001b[0m\u001b[0;34m\u001b[0m\u001b[0;34m\u001b[0m\u001b[0m\n",
      "\u001b[0;32m<ipython-input-60-c7d3073aa31b>\u001b[0m in \u001b[0;36m<listcomp>\u001b[0;34m(.0)\u001b[0m\n\u001b[0;32m----> 1\u001b[0;31m \u001b[0mpred_list_cor\u001b[0m \u001b[0;34m=\u001b[0m \u001b[0;34m[\u001b[0m\u001b[0mpred_dic\u001b[0m\u001b[0;34m[\u001b[0m\u001b[0mid\u001b[0m\u001b[0;34m]\u001b[0m \u001b[0;32mfor\u001b[0m \u001b[0mid\u001b[0m \u001b[0;32min\u001b[0m \u001b[0msample_list\u001b[0m\u001b[0;34m]\u001b[0m\u001b[0;34m\u001b[0m\u001b[0m\n\u001b[0m\u001b[1;32m      2\u001b[0m \u001b[0;31m#df = pd.DataFrame({'Id':sample_list,'Predicted':pred_list_cor})\u001b[0m\u001b[0;34m\u001b[0m\u001b[0;34m\u001b[0m\u001b[0m\n\u001b[1;32m      3\u001b[0m \u001b[0;31m#df.to_csv(fname, header=True, index=False)\u001b[0m\u001b[0;34m\u001b[0m\u001b[0;34m\u001b[0m\u001b[0m\n",
      "\u001b[0;31mKeyError\u001b[0m: '00008af0-bad0-11e8-b2b8-ac1f6b6435d0'"
     ]
    }
   ],
   "source": [
    "pred_list_cor = [pred_dic[id] for id in sample_list]\n",
    "#df = pd.DataFrame({'Id':sample_list,'Predicted':pred_list_cor})\n",
    "#df.to_csv(fname, header=True, index=False)"
   ]
  },
  {
   "cell_type": "code",
   "execution_count": null,
   "metadata": {},
   "outputs": [],
   "source": []
  }
 ],
 "metadata": {
  "kernelspec": {
   "display_name": "Python (fastai_dl_course)",
   "language": "python",
   "name": "fastai_dl_course"
  },
  "language_info": {
   "codemirror_mode": {
    "name": "ipython",
    "version": 3
   },
   "file_extension": ".py",
   "mimetype": "text/x-python",
   "name": "python",
   "nbconvert_exporter": "python",
   "pygments_lexer": "ipython3",
   "version": "3.7.0"
  },
  "toc": {
   "base_numbering": 1,
   "nav_menu": {},
   "number_sections": true,
   "sideBar": true,
   "skip_h1_title": false,
   "title_cell": "Table of Contents",
   "title_sidebar": "Contents",
   "toc_cell": false,
   "toc_position": {},
   "toc_section_display": true,
   "toc_window_display": false
  }
 },
 "nbformat": 4,
 "nbformat_minor": 2
}
