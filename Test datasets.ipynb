{
 "cells": [
  {
   "cell_type": "code",
   "execution_count": 31,
   "metadata": {
    "ExecuteTime": {
     "end_time": "2018-11-12T20:52:23.080494Z",
     "start_time": "2018-11-12T20:52:22.978816Z"
    }
   },
   "outputs": [],
   "source": [
    "## notebook setup\n",
    "%reload_ext autoreload\n",
    "%autoreload 2\n",
    "%matplotlib inline"
   ]
  },
  {
   "cell_type": "code",
   "execution_count": 32,
   "metadata": {
    "ExecuteTime": {
     "end_time": "2018-11-12T20:52:23.206932Z",
     "start_time": "2018-11-12T20:52:23.128249Z"
    }
   },
   "outputs": [],
   "source": [
    "# import fastai\n",
    "from fastai import *\n",
    "from fastai.vision import *\n",
    "from setup import *\n",
    "from image import *"
   ]
  },
  {
   "cell_type": "code",
   "execution_count": 20,
   "metadata": {
    "ExecuteTime": {
     "end_time": "2018-11-12T20:49:03.193562Z",
     "start_time": "2018-11-12T20:49:03.122619Z"
    }
   },
   "outputs": [
    {
     "data": {
      "text/html": [
       "<div>\n",
       "<style scoped>\n",
       "    .dataframe tbody tr th:only-of-type {\n",
       "        vertical-align: middle;\n",
       "    }\n",
       "\n",
       "    .dataframe tbody tr th {\n",
       "        vertical-align: top;\n",
       "    }\n",
       "\n",
       "    .dataframe thead th {\n",
       "        text-align: right;\n",
       "    }\n",
       "</style>\n",
       "<table border=\"1\" class=\"dataframe\">\n",
       "  <thead>\n",
       "    <tr style=\"text-align: right;\">\n",
       "      <th></th>\n",
       "      <th>Id</th>\n",
       "      <th>Target</th>\n",
       "    </tr>\n",
       "  </thead>\n",
       "  <tbody>\n",
       "    <tr>\n",
       "      <th>0</th>\n",
       "      <td>00070df0-bbc3-11e8-b2bc-ac1f6b6435d0</td>\n",
       "      <td>16 0</td>\n",
       "    </tr>\n",
       "    <tr>\n",
       "      <th>1</th>\n",
       "      <td>000a6c98-bb9b-11e8-b2b9-ac1f6b6435d0</td>\n",
       "      <td>7 1 2 0</td>\n",
       "    </tr>\n",
       "    <tr>\n",
       "      <th>2</th>\n",
       "      <td>000a9596-bbc4-11e8-b2bc-ac1f6b6435d0</td>\n",
       "      <td>5</td>\n",
       "    </tr>\n",
       "    <tr>\n",
       "      <th>3</th>\n",
       "      <td>000c99ba-bba4-11e8-b2b9-ac1f6b6435d0</td>\n",
       "      <td>1</td>\n",
       "    </tr>\n",
       "    <tr>\n",
       "      <th>4</th>\n",
       "      <td>001838f8-bbca-11e8-b2bc-ac1f6b6435d0</td>\n",
       "      <td>18</td>\n",
       "    </tr>\n",
       "  </tbody>\n",
       "</table>\n",
       "</div>"
      ],
      "text/plain": [
       "                                     Id   Target\n",
       "0  00070df0-bbc3-11e8-b2bc-ac1f6b6435d0     16 0\n",
       "1  000a6c98-bb9b-11e8-b2b9-ac1f6b6435d0  7 1 2 0\n",
       "2  000a9596-bbc4-11e8-b2bc-ac1f6b6435d0        5\n",
       "3  000c99ba-bba4-11e8-b2b9-ac1f6b6435d0        1\n",
       "4  001838f8-bbca-11e8-b2bc-ac1f6b6435d0       18"
      ]
     },
     "execution_count": 20,
     "metadata": {},
     "output_type": "execute_result"
    }
   ],
   "source": [
    "df = pd.read_csv(train_csv); df.head()"
   ]
  },
  {
   "cell_type": "code",
   "execution_count": null,
   "metadata": {},
   "outputs": [],
   "source": [
    "fns = pd.Series([id + '.png' for id in df.Id])\n",
    "labels = [targ.split(' ') for targ in df.Target]\n",
    "np.random.seed(42)\n",
    "trn_ds, val_ds = ImageMulti4Channel.from_folder(path, 'train', fns, labels, classes=[str(i) for i in range(28)])\n",
    "test_ids = list(sorted({fname.split('_')[0] for fname in os.listdir(path/'test')}))\n",
    "test_ds,_ = ImageMulti4Channel.from_folder(\n",
    "    path, \n",
    "    'test', \n",
    "    pd.Series(test_ids), \n",
    "    [['0'] for _ in range(len(test_ids))],\n",
    "    valid_pct=0,\n",
    "    classes=['0'],\n",
    ")"
   ]
  },
  {
   "cell_type": "code",
   "execution_count": 25,
   "metadata": {
    "ExecuteTime": {
     "end_time": "2018-11-12T20:50:50.134596Z",
     "start_time": "2018-11-12T20:50:50.064711Z"
    }
   },
   "outputs": [
    {
     "name": "stdout",
     "output_type": "stream",
     "text": [
      "0    00070df0-bbc3-11e8-b2bc-ac1f6b6435d0.png\n",
      "1    000a6c98-bb9b-11e8-b2b9-ac1f6b6435d0.png\n",
      "dtype: object\n",
      "[['16', '0'], ['7', '1', '2', '0']]\n"
     ]
    }
   ],
   "source": [
    "fns = pd.Series([id + '.png' for id in df.Id]); print(fns[:2])\n",
    "labels = [targ.split(' ') for targ in df.Target]; print(labels[:2])"
   ]
  },
  {
   "cell_type": "code",
   "execution_count": 50,
   "metadata": {
    "ExecuteTime": {
     "end_time": "2018-11-12T20:56:06.412438Z",
     "start_time": "2018-11-12T20:56:06.257967Z"
    }
   },
   "outputs": [
    {
     "name": "stdout",
     "output_type": "stream",
     "text": [
      "trn_ds: ['/home/fabsta/projects/datascience/competitions/kaggle_human_protein_segmentation/input/train/00070df0-bbc3-11e8-b2bc-ac1f6b6435d0.png'], type: <class 'image.ImageMulti4Channel'>\n",
      "val_ds: ['/home/fabsta/projects/datascience/competitions/kaggle_human_protein_segmentation/input/train/001838f8-bbca-11e8-b2bc-ac1f6b6435d0.png'], type: <class 'image.ImageMulti4Channel'>\n"
     ]
    }
   ],
   "source": [
    "np.random.seed(42)\n",
    "trn_ds, val_ds = ImageMulti4Channel.from_folder(path, 'train', fns, labels, classes=[str(i) for i in range(28)])\n",
    "print(f\"trn_ds: {trn_ds.x[:1]}, type: {type(trn_ds)}\")\n",
    "print(f\"val_ds: {val_ds.x[:1]}, type: {type(val_ds)}\")"
   ]
  },
  {
   "cell_type": "code",
   "execution_count": null,
   "metadata": {},
   "outputs": [],
   "source": []
  }
 ],
 "metadata": {
  "kernelspec": {
   "display_name": "Python (fastai_dl_course)",
   "language": "python",
   "name": "fastai_dl_course"
  },
  "language_info": {
   "codemirror_mode": {
    "name": "ipython",
    "version": 3
   },
   "file_extension": ".py",
   "mimetype": "text/x-python",
   "name": "python",
   "nbconvert_exporter": "python",
   "pygments_lexer": "ipython3",
   "version": "3.7.0"
  },
  "toc": {
   "base_numbering": 1,
   "nav_menu": {},
   "number_sections": true,
   "sideBar": true,
   "skip_h1_title": false,
   "title_cell": "Table of Contents",
   "title_sidebar": "Contents",
   "toc_cell": false,
   "toc_position": {},
   "toc_section_display": true,
   "toc_window_display": false
  }
 },
 "nbformat": 4,
 "nbformat_minor": 2
}
